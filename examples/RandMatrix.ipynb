{
 "metadata": {
  "name": "",
  "signature": "sha256:706698172860d9312a0b0be6c5dbc0cab48d9bf39bc9c4bc9764228e5f4ee27e"
 },
 "nbformat": 3,
 "nbformat_minor": 0,
 "worksheets": [
  {
   "cells": [
    {
     "cell_type": "code",
     "collapsed": false,
     "input": [
      "#Import mc module\n",
      "import mc\n",
      "import numpy as np\n",
      "import os\n",
      "import json"
     ],
     "language": "python",
     "metadata": {},
     "outputs": [],
     "prompt_number": 39
    },
    {
     "cell_type": "code",
     "collapsed": false,
     "input": [
      "#Lets calculate the distribution for a BIG RANDOM MATRIX and do some SAMPLING\n",
      "#create random matrix\n",
      "a = np.random.rand(500,500)"
     ],
     "language": "python",
     "metadata": {},
     "outputs": [],
     "prompt_number": 66
    },
    {
     "cell_type": "code",
     "collapsed": false,
     "input": [
      "b=0\n",
      "for i in range(len(a)):\n",
      "    for j in range(len(a)):\n",
      "        b += a[i][j]\n",
      "    \n",
      "    \n",
      "    for j in range(len(a)):\n",
      "        a[i][j]= a[i][j]/b\n",
      "        \n",
      "    b = 0\n",
      "    \n",
      "    \n"
     ],
     "language": "python",
     "metadata": {},
     "outputs": [],
     "prompt_number": 67
    },
    {
     "cell_type": "code",
     "collapsed": false,
     "input": [
      "dir = os.getcwd()\n",
      "params = json.load(open(dir + '/params.json' , 'r'))\n",
      "totalsteps = params[\"totalsteps\"] #total steps\n",
      "seed =  params[\"seed\"]          #seed number \n",
      "skipsteps = params[\"skipsteps\"] #profiling time \n",
      "node_0  = params[\"initnode\"]    #starting node\n",
      "node_1  = params[\"finalnode\"]   #node for which equil distribution would be calculated\n",
      "\n",
      "RandMatrix = mc.MC(dir + '/randwalk.dat', seed[0] , totalsteps ,node_0[0] , node_1[1], 10*skipsteps)"
     ],
     "language": "python",
     "metadata": {},
     "outputs": [],
     "prompt_number": 68
    },
    {
     "cell_type": "code",
     "collapsed": false,
     "input": [
      "#Pass Transition matrix as calculated above\n",
      "RandMatrix.adjmatrix(a)"
     ],
     "language": "python",
     "metadata": {},
     "outputs": [],
     "prompt_number": 69
    },
    {
     "cell_type": "code",
     "collapsed": false,
     "input": [
      "#Create Age features for each node\n",
      "mean = 50 \n",
      "mu = 20\n",
      "#Draw age from a normal distribution\n",
      "ages = np.random.normal(mean,mu,500)\n",
      "\n",
      "RandMatrix.sampling_property(ages)\n",
      "dist = RandMatrix.run(True)\n",
      "#dist = RandMatrix.run()\n"
     ],
     "language": "python",
     "metadata": {},
     "outputs": [
      {
       "output_type": "stream",
       "stream": "stdout",
       "text": [
        "ETS |  24672376470.6 \t| steps remaining :  0 / 500000 \t| time remaining :  2.02655792236e-05 seconds\n",
        "ETS | "
       ]
      },
      {
       "output_type": "stream",
       "stream": "stdout",
       "text": [
        " 9159.60872132 \t| steps remaining :  100000 / 500000 \t| time remaining :  43.6699876785 seconds\n",
        "ETS | "
       ]
      },
      {
       "output_type": "stream",
       "stream": "stdout",
       "text": [
        " 9351.74808939 \t| steps remaining :  200000 / 500000 \t| time remaining :  32.0795638561 seconds\n",
        "ETS | "
       ]
      },
      {
       "output_type": "stream",
       "stream": "stdout",
       "text": [
        " 9398.76403783 \t| steps remaining :  300000 / 500000 \t| time remaining :  21.2793936729 seconds\n",
        "ETS | "
       ]
      },
      {
       "output_type": "stream",
       "stream": "stdout",
       "text": [
        " 9435.93508322 \t| steps remaining :  400000 / 500000 \t| time remaining :  10.5977838039 seconds\n"
       ]
      }
     ],
     "prompt_number": 70
    },
    {
     "cell_type": "code",
     "collapsed": false,
     "input": [
      "ave_age = RandMatrix.globalproperty()\n",
      "print \"equilibrium distribution for node \",node_1[1],\": \", dist \n",
      "print \"Average Age : \", ave_age  "
     ],
     "language": "python",
     "metadata": {},
     "outputs": [
      {
       "output_type": "stream",
       "stream": "stdout",
       "text": [
        "equilibrium distribution for node  1 :  0.002148\n",
        "Average Age :  50.1218262123\n"
       ]
      }
     ],
     "prompt_number": 71
    },
    {
     "cell_type": "code",
     "collapsed": false,
     "input": [
      "#Let's pick another node  and get its distribution!!\n",
      "\n",
      "node =105\n",
      "RandMatrix = mc.MC(dir + '/randwalk.dat', seed[0] , totalsteps ,0 , node, 10*skipsteps)\n",
      "RandMatrix.adjmatrix(a)\n",
      "dist = RandMatrix.run()"
     ],
     "language": "python",
     "metadata": {},
     "outputs": [
      {
       "output_type": "stream",
       "stream": "stdout",
       "text": [
        "ETS |  26214400000.0 \t| steps remaining :  0 / 500000 \t| time remaining :  1.90734863281e-05 seconds\n",
        "ETS | "
       ]
      },
      {
       "output_type": "stream",
       "stream": "stdout",
       "text": [
        " 9262.9077402 \t| steps remaining :  100000 / 500000 \t| time remaining :  43.1829843521 seconds\n",
        "ETS | "
       ]
      },
      {
       "output_type": "stream",
       "stream": "stdout",
       "text": [
        " 9232.62239442 \t| steps remaining :  200000 / 500000 \t| time remaining :  32.4934766293 seconds\n",
        "ETS | "
       ]
      },
      {
       "output_type": "stream",
       "stream": "stdout",
       "text": [
        " 9574.98087711 \t| steps remaining :  300000 / 500000 \t| time remaining :  20.8877701759 seconds\n",
        "ETS | "
       ]
      },
      {
       "output_type": "stream",
       "stream": "stdout",
       "text": [
        " 9648.36978523 \t| steps remaining :  400000 / 500000 \t| time remaining :  10.3644452095 seconds\n"
       ]
      }
     ],
     "prompt_number": 72
    },
    {
     "cell_type": "code",
     "collapsed": false,
     "input": [],
     "language": "python",
     "metadata": {},
     "outputs": [],
     "prompt_number": 55
    },
    {
     "cell_type": "code",
     "collapsed": false,
     "input": [
      "print \"equilibrium distribution for node \",node,\": \", dist "
     ],
     "language": "python",
     "metadata": {},
     "outputs": [
      {
       "output_type": "stream",
       "stream": "stdout",
       "text": [
        "equilibrium distribution for node  105 :  0.001982\n"
       ]
      }
     ],
     "prompt_number": 59
    },
    {
     "cell_type": "code",
     "collapsed": false,
     "input": [
      "#same as for node 1 , expected since transition matrix is random!"
     ],
     "language": "python",
     "metadata": {},
     "outputs": []
    }
   ],
   "metadata": {}
  }
 ]
}