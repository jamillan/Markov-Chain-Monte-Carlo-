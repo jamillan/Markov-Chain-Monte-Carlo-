{
 "metadata": {
  "name": "",
  "signature": "sha256:38f89e8715319d087cebb7251f87a97b403cf5c7d2eb3f84ebc07c64a397ae56"
 },
 "nbformat": 3,
 "nbformat_minor": 0,
 "worksheets": [
  {
   "cells": [
    {
     "cell_type": "code",
     "collapsed": false,
     "input": [
      "from __future__ import division\n",
      "import sys\n",
      "import numpy as np\n",
      "from numpy import linalg as LA\n",
      "import pandas as pd\n",
      "import random\n",
      "import multiprocessing\n",
      "from multiprocessing import Pool\n",
      "import time\n",
      "import json\n"
     ],
     "language": "python",
     "metadata": {},
     "outputs": [],
     "prompt_number": 1
    },
    {
     "cell_type": "code",
     "collapsed": false,
     "input": [
      "class MC:  \n",
      "  def __init__(self , filepath, seed, totalsteps,initnode,finalnode , timeskips =10000):\n",
      "    #Initalize Instance of Markovian Chain\n",
      "    self.adjMatrix = np.genfromtxt(filepath)\n",
      "    self.rand =random.Random()\n",
      "    self.rand.seed(seed)\n",
      "    self.timeskips = timeskips\n",
      "    self.totalsteps = totalsteps\n",
      "    self.initnode = initnode\n",
      "    self.finalnode = finalnode\n",
      "\n",
      "    #sanity check \n",
      "\n",
      "    if self.initnode > (len(self.adjMatrix[0])-1) or self.finalnode > (len(self.adjMatrix[0])-1):\n",
      "      raise RuntimeError(\"wrong selection of init/final nodes : total nbr of nodes = \" + (str(len(self.adjMatrix[0]) -1 )))\n",
      "      quit()\n",
      "\n",
      "\n",
      "\n",
      "  def run(self):\n",
      "  # run Markovian Chain for a targeted node distribution\n",
      "  # variables for frequency calculations\n",
      "    counts = 0.\n",
      "    freq = 0.\n",
      "    FinalNode = self.initnode\n",
      "    loop = 1\n",
      "    for steps in range(self.totalsteps):\n",
      "      #print \"steps | \" + str(steps)\n",
      "      if freq == 0. :\n",
      "        t_init = time.time()\n",
      "\n",
      "      loop = 1\n",
      "      if steps % self.timeskips == 0 and self.totalsteps > 0:\n",
      "        ETS = (time.time() - t_init) / self.timeskips\n",
      "        print \"ETS | \" , int(1. / ETS) , \"\\t| steps remaining : \" , steps , \"/\" , self.totalsteps  ,\"\\t| time remaining : \" , (self.totalsteps - steps) * ETS , \"seconds\"\n",
      "        loop = loop + 1\n",
      "        freq = 0\n",
      "#probability for trial move\n",
      "      cutoff = self.rand.random();\n",
      "      prob = 0;\n",
      "      #Trial Move\n",
      "      for j in range(len(self.adjMatrix)):\n",
      "        prob += self.adjMatrix[FinalNode,j];\n",
      "\n",
      "        if prob >= cutoff:\n",
      "          FinalNode = j\n",
      "          if FinalNode == self.finalnode :\n",
      "          # Calculate probability for targeted node\n",
      "            counts= counts + 1.0\n",
      "            freq = freq + 1.0\n",
      "\n",
      "          #print \"State | \" + str(FinalNode)\n",
      "          break\n",
      "\n",
      "    #self.finalnode = FinalNode;\n",
      "\n",
      "    #return probability of targeted state\n",
      "\n",
      "    return counts/self.totalsteps\n",
      "\n",
      "  def diffussion(self , initstate, finalstate):\n",
      "  # run Markovian Chain for a targeted node distribution\n",
      "  # variables for probability calculations\n",
      "    counts = 0.\n",
      "    freq = 0.\n",
      "    FinalNode = self.initnode\n",
      "    loop = 1\n",
      "    edges = 0.\n",
      "    diffsteps = 0.\n",
      "    listDiff = []\n",
      "    # Loop for trial moves \n",
      "\n",
      "    for steps in range(self.totalsteps):\n",
      "\n",
      "      #print \"steps | \" + str(steps)\n",
      "      if(FinalNode == initstate):\n",
      "        edges  = 0\n",
      "        diffsteps = 1\n",
      "\n",
      "      if freq == 0. :\n",
      "        t_init = time.time()\n",
      "\n",
      "      loop = 1\n",
      "      if steps % self.timeskips == 0 and steps > 0:\n",
      "        ETS = (time.time() - t_init) / self.timeskips\n",
      "        print \"ETS | \" , int(1. / ETS) , \"\\t| steps remaining : \" , steps , \"/\" , self.totalsteps  ,\"\\t| time remaining : \" , (self.totalsteps - steps) * ETS , \"seconds\"\n",
      "        loop = loop + 1\n",
      "        freq = 0\n",
      "\n",
      "      #probability for trial move\n",
      "      cutoff = self.rand.random();\n",
      "      prob = 0;\n",
      "      #Trail Move\n",
      "      for j in range(len(self.adjMatrix)):\n",
      "        prob += self.adjMatrix[FinalNode,j];\n",
      "\n",
      "        if prob >= cutoff:\n",
      "          FinalNode = j\n",
      "\n",
      "          if FinalNode  == finalstate :\n",
      "            diff = edges ;\n",
      "            listDiff.append(diff)\n",
      "\n",
      "          else:\n",
      "            edges = edges + 1.0\n",
      "            diffsteps = diffsteps + 1.0\n",
      "\n",
      "\n",
      "          if FinalNode == self.finalnode :\n",
      "          # Calculate probability for targeted node\n",
      "            counts= counts + 1.0\n",
      "            freq = freq + 1.0\n",
      "\n",
      "          #print \"State | \" + str(FinalNode)\n",
      "          break\n",
      "\n",
      "    #self.finalnode = FinalNode;\n",
      "\n",
      "    #return probability of targeted state\n",
      "\n",
      "    return listDiff\n",
      "\n",
      "  def setinitnode(self,init):\n",
      "    #set initial node\n",
      "    if init < (len(self.adjMatrix[0])-1):\n",
      "      self.initnode = init\n",
      "\n",
      "    else:\n",
      "      print \"wrong nbr of states: total nbr \" + str(len(self.adjMatrix[0])-1)\n",
      "        \n",
      "  def setfinalnode(self, final):\n",
      "  #ser final node\n",
      "    if init < (len(self.adjMatrix[0])-1):\n",
      "      self.initnode = final\n",
      "\n",
      "    else:\n",
      "      print \"wrong nbr of states: total nbr \" + str(len(self.adjMatrix[0])-1)\n",
      "\n",
      "  def raisematrix(self, nth):\n",
      "  #raise transition matrix to the \"nth\" power\n",
      "    powmatrix = LA.matrix_power(self.adjMatrix, nth)\n",
      "    return powmatrix;\n",
      "\n",
      "  def adjmatrix(self):\n",
      "    return self.adjMatrix;\n",
      "\n",
      "  def eigen(self):\n",
      "    powmatrix = LA.matrix_power(self.adjMatrix, 1)\n",
      "    powmatrix = np.transpose(powmatrix)\n",
      "    eigenval,eigenvec = LA.eig(powmatrix)\n",
      "    return eigenval,eigenvec\n",
      " \n",
      "def encapsulate(var):\n",
      "    runner = MC(var[0],var[1], var[2], var[3], var[4])\n",
      "      #get equil_dist\n",
      "    equil_dist  = runner.run()\n",
      "    return equil_dist , runner\n",
      "\n"
     ],
     "language": "python",
     "metadata": {},
     "outputs": [],
     "prompt_number": 2
    },
    {
     "cell_type": "code",
     "collapsed": false,
     "input": [
      "if __name__ == '__main__':\n",
      "\n",
      "  dir = '/Users/jamillan/MarkovianChain/'\n",
      "  params = json.load(open(dir + 'weatherparams.json' , 'r'))\n",
      "  totalsteps = params[\"totalsteps\"]\n",
      "  seed =  params[\"seed\"]\n",
      "  skipsteps = params[\"skipsteps\"]\n",
      "  node_0  = params[\"initnode\"]\n",
      "  node_1  = params[\"finalnode\"]\n",
      "\n",
      "  var=[['/Users/jamillan/MarkovianChain/matrix.dat', seed[0] , totalsteps ,1 , node_1[0] , skipsteps]]\n",
      "  var1=['/Users/jamillan/MarkovianChain/matrix.dat', seed[1] , totalsteps ,2 , node_1[1] , skipsteps]\n",
      "  var2=['/Users/jamillan/MarkovianChain/matrix.dat', seed[2] , totalsteps ,0 , node_1[2] , skipsteps]\n",
      "\n",
      "  randwalker = MC('/Users/jamillan/MarkovianChain/matrix.dat', 1 , totalsteps ,0 , 1, skipsteps)\n",
      "  A = randwalker.raisematrix(100)\n",
      "  print A\n",
      "  prob_node = randwalker.run()\n",
      "  print prob_node\n",
      "\n",
      "  \n",
      "\n",
      "  "
     ],
     "language": "python",
     "metadata": {},
     "outputs": [
      {
       "output_type": "stream",
       "stream": "stdout",
       "text": [
        "[[ 0.22352941  0.56470588  0.21176471]\n",
        " [ 0.22352941  0.56470588  0.21176471]\n",
        " [ 0.22352941  0.56470588  0.21176471]]\n",
        "ETS |  3226387692 \t| steps remaining :  0 / 100000 \t| time remaining :  3.09944152832e-05 seconds\n",
        "ETS |  258946 \t| steps remaining :  10000 / 100000 \t| time remaining :  0.347562789917 seconds\n",
        "ETS | "
       ]
      },
      {
       "output_type": "stream",
       "stream": "stdout",
       "text": [
        " 147039 \t| steps remaining :  20000 / 100000 \t| time remaining :  0.544073104858 seconds\n",
        "ETS |  100535 \t| steps remaining :  30000 / 100000 \t| time remaining :  0.696269273758 seconds\n",
        "ETS | "
       ]
      },
      {
       "output_type": "stream",
       "stream": "stdout",
       "text": [
        " 412849 \t| steps remaining :  40000 / 100000 \t| time remaining :  0.145331382751 seconds\n",
        "ETS |  184182 \t| steps remaining :  50000 / 100000 \t| time remaining :  0.271470546722 seconds\n",
        "ETS | "
       ]
      },
      {
       "output_type": "stream",
       "stream": "stdout",
       "text": [
        " 286919 \t| steps remaining :  60000 / 100000 \t| time remaining :  0.13941192627 seconds\n",
        "ETS |  150484 \t| steps remaining :  70000 / 100000 \t| time remaining :  0.199356079102 seconds\n",
        "ETS | "
       ]
      },
      {
       "output_type": "stream",
       "stream": "stdout",
       "text": [
        " 112221 \t| steps remaining :  80000 / 100000 \t| time remaining :  0.178218364716 seconds\n",
        "ETS |  88907 \t| steps remaining :  90000 / 100000 \t| time remaining :  0.112477064133 seconds\n",
        "0.56425\n"
       ]
      }
     ],
     "prompt_number": 7
    },
    {
     "cell_type": "code",
     "collapsed": false,
     "input": [
      "  diff_1_2 = randwalker.diffussion(1,0)\n",
      "  print np.mean(diff_1_2)\n",
      "\n",
      "  "
     ],
     "language": "python",
     "metadata": {},
     "outputs": [
      {
       "output_type": "stream",
       "stream": "stdout",
       "text": [
        "ETS |  211318 \t| steps remaining :  10000 / 100000 \t| time remaining :  0.425898313522 seconds\n",
        "ETS |  113897 \t| steps remaining :  20000 / 100000 \t| time remaining :  0.70238494873 seconds\n",
        "ETS | "
       ]
      },
      {
       "output_type": "stream",
       "stream": "stdout",
       "text": [
        " 76963 \t| steps remaining :  30000 / 100000 \t| time remaining :  0.909516811371 seconds\n",
        "ETS |  59564 \t| steps remaining :  40000 / 100000 \t| time remaining :  1.00731611252 seconds\n",
        "ETS | "
       ]
      },
      {
       "output_type": "stream",
       "stream": "stdout",
       "text": [
        " 270234 \t| steps remaining :  50000 / 100000 \t| time remaining :  0.185024738312 seconds\n",
        "ETS |  320707 \t| steps remaining :  60000 / 100000 \t| time remaining :  0.124724388123 seconds\n",
        "ETS | "
       ]
      },
      {
       "output_type": "stream",
       "stream": "stdout",
       "text": [
        " 178071 \t| steps remaining :  70000 / 100000 \t| time remaining :  0.168471336365 seconds\n",
        "ETS |  117893 \t| steps remaining :  80000 / 100000 \t| time remaining :  0.169644355774 seconds\n",
        "ETS | "
       ]
      },
      {
       "output_type": "stream",
       "stream": "stdout",
       "text": [
        " 363558 \t| steps remaining :  90000 / 100000 \t| time remaining :  0.0275058746338 seconds\n",
        "0.205013026682\n"
       ]
      }
     ],
     "prompt_number": 8
    },
    {
     "cell_type": "code",
     "collapsed": false,
     "input": [
      "  var.append(var1)\n",
      "  var.append(var2)\n",
      "#example of  how to run in parallel\n",
      "  runners=[]\n",
      "  pool = Pool(processes = multiprocessing.cpu_count())\n",
      "  runners =  pool.map(encapsulate,var)\n",
      "\n",
      "  "
     ],
     "language": "python",
     "metadata": {},
     "outputs": [
      {
       "output_type": "stream",
       "stream": "stdout",
       "text": [
        "ETS |  2467237647 \t| steps remaining :  0 / 100000 \t| time remaining :  4.05311584473e-05 seconds\n",
        "ETS |  4660337777 \t| steps remaining :  0 / 100000 \t| time remaining :  2.14576721191e-05 seconds\n",
        "ETS |  3495253333 \t| steps remaining :  0 / 100000 \t| time remaining :  2.86102294922e-05 seconds\n",
        "ETS | ETS |  189705 \t| steps remaining :  10000 / 100000 \t| time remaining :  0.474418401718 seconds\n",
        "ETS |  217221 \t| steps remaining :  10000 / 100000 \t| time remaining :  0.414324045181 seconds\n",
        " 198830 \t| steps remaining :  10000 / 100000 \t| time remaining :  0.452647447586 seconds\n",
        "ETS |  106439 \t| steps remaining :  20000 / 100000 \t| time remaining :  0.751600265503 seconds\n",
        "ETS |  269345 \t| steps remaining :  20000 / 100000 \t| time remaining :  0.297016143799 seconds\n",
        "ETS |  280223 \t| steps remaining :  20000 / 100000 \t| time remaining :  0.285486221313 seconds\n",
        "ETS |  72478 \t| steps remaining :  30000 / 100000 \t| time remaining :  0.965798139572 seconds\n",
        "ETS |  288917 \t| steps remaining :  30000 / 100000 \t| time remaining :  0.242283582687 seconds\n",
        "ETS |  258518 \t| steps remaining :  30000 / 100000 \t| time remaining :  0.270773887634 seconds\n",
        "ETS |  57639 \t| steps remaining :  40000 / 100000 \t| time remaining :  1.04095172882 seconds\n",
        "ETS |  232439 \t| steps remaining :  40000 / 100000 \t| time remaining :  0.258131504059 seconds\n",
        "ETS |  272500 \t| steps remaining :  40000 / 100000 \t| time remaining :  0.22018289566 seconds\n",
        "ETS |  244798 \t| steps remaining :  50000 / 100000 \t| time remaining :  0.204249620438 seconds\n",
        "ETS |  278380 \t| steps remaining :  50000 / 100000 \t| time remaining :  0.17961025238 seconds\n",
        "ETS |  349589 \t| steps remaining :  50000 / 100000 \t| time remaining :  0.143024921417 seconds\n",
        "ETS |  140394 \t| steps remaining :  60000 / 100000 \t| time remaining :  0.284911155701 seconds\n",
        "ETS |  252194 \t| steps remaining :  60000 / 100000 \t| time remaining :  0.15860748291 seconds\n",
        "ETS |  329738 \t| steps remaining :  60000 / 100000 \t| time remaining :  0.121308326721 seconds\n",
        "ETS |  306419 \t| steps remaining :  70000 / 100000 \t| time remaining :  0.097904920578 seconds\n",
        "ETS |  355277 \t| steps remaining :  70000 / 100000 \t| time remaining :  0.084440946579 seconds\n",
        "ETS |  247597 \t| steps remaining :  70000 / 100000 \t| time remaining :  0.121164321899 seconds\n",
        "ETS |  142413 \t| steps remaining :  80000 / 100000 \t| time remaining :  0.140436172485 seconds\n",
        "ETS |  157579 \t| steps remaining :  80000 / 100000 \t| time remaining :  0.126919746399 seconds\n",
        "ETS |  318370 \t| steps remaining :  80000 / 100000 \t| time remaining :  0.0628199577332 seconds\n",
        "ETS |  96170 \t| steps remaining :  90000 / 100000 \t| time remaining :  0.103981971741 seconds\n",
        "ETS |  102635 \t| steps remaining :  90000 / 100000 \t| time remaining :  0.0974318981171 seconds\n",
        "ETS |  276228 \t| steps remaining :  90000 / 100000 \t| time remaining :  0.0362019538879 seconds\n"
       ]
      }
     ],
     "prompt_number": 9
    },
    {
     "cell_type": "code",
     "collapsed": false,
     "input": [
      "for i in range(len(runners)):\n",
      "\n",
      "    print \"printing distribution node \" + str(i) + \" = \" ,runners[i][0]"
     ],
     "language": "python",
     "metadata": {},
     "outputs": [
      {
       "output_type": "stream",
       "stream": "stdout",
       "text": [
        "printing distribution node 0 =  0.22695\n",
        "printing distribution node 1 =  0.56477\n",
        "printing distribution node 2 =  0.21232\n"
       ]
      }
     ],
     "prompt_number": 6
    },
    {
     "cell_type": "code",
     "collapsed": false,
     "input": [],
     "language": "python",
     "metadata": {},
     "outputs": [],
     "prompt_number": 6
    },
    {
     "cell_type": "code",
     "collapsed": false,
     "input": [],
     "language": "python",
     "metadata": {},
     "outputs": [],
     "prompt_number": 6
    },
    {
     "cell_type": "code",
     "collapsed": false,
     "input": [],
     "language": "python",
     "metadata": {},
     "outputs": [],
     "prompt_number": 6
    },
    {
     "cell_type": "code",
     "collapsed": false,
     "input": [],
     "language": "python",
     "metadata": {},
     "outputs": []
    }
   ],
   "metadata": {}
  }
 ]
}