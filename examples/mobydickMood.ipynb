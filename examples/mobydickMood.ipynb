{
 "metadata": {
  "name": "",
  "signature": "sha256:86bbee696f9edd98e43332f6f188103ce6e8ef4b5445f0c71b28007fc39a3147"
 },
 "nbformat": 3,
 "nbformat_minor": 0,
 "worksheets": [
  {
   "cells": [
    {
     "cell_type": "code",
     "collapsed": false,
     "input": [
      "import nltk\n",
      "import os\n",
      "import json\n",
      "from numpy import linalg as LA"
     ],
     "language": "python",
     "metadata": {},
     "outputs": [],
     "prompt_number": 1
    },
    {
     "cell_type": "code",
     "collapsed": false,
     "input": [
      "from nltk.book import *"
     ],
     "language": "python",
     "metadata": {},
     "outputs": [
      {
       "output_type": "stream",
       "stream": "stdout",
       "text": [
        "*** Introductory Examples for the NLTK Book ***\n",
        "Loading text1, ..., text9 and sent1, ..., sent9\n",
        "Type the name of the text or sentence to view it.\n",
        "Type: 'texts()' or 'sents()' to list the materials.\n",
        "text1:"
       ]
      },
      {
       "output_type": "stream",
       "stream": "stdout",
       "text": [
        " Moby Dick by Herman Melville 1851\n",
        "text2:"
       ]
      },
      {
       "output_type": "stream",
       "stream": "stdout",
       "text": [
        " Sense and Sensibility by Jane Austen 1811\n",
        "text3:"
       ]
      },
      {
       "output_type": "stream",
       "stream": "stdout",
       "text": [
        " The Book of Genesis\n",
        "text4:"
       ]
      },
      {
       "output_type": "stream",
       "stream": "stdout",
       "text": [
        " Inaugural Address Corpus\n",
        "text5:"
       ]
      },
      {
       "output_type": "stream",
       "stream": "stdout",
       "text": [
        " Chat Corpus\n",
        "text6:"
       ]
      },
      {
       "output_type": "stream",
       "stream": "stdout",
       "text": [
        " Monty Python and the Holy Grail\n",
        "text7:"
       ]
      },
      {
       "output_type": "stream",
       "stream": "stdout",
       "text": [
        " Wall Street Journal\n",
        "text8: Personals Corpus\n",
        "text9:"
       ]
      },
      {
       "output_type": "stream",
       "stream": "stdout",
       "text": [
        " The Man Who Was Thursday by G . K . Chesterton 1908\n"
       ]
      }
     ],
     "prompt_number": 2
    },
    {
     "cell_type": "code",
     "collapsed": false,
     "input": [
      "#Import mc module\n",
      "import mc\n",
      "import numpy as np"
     ],
     "language": "python",
     "metadata": {},
     "outputs": []
    },
    {
     "cell_type": "code",
     "collapsed": false,
     "input": [
      "#Let look into the mood of moby dick\n",
      "text1.dispersion_plot([\"love\", \"hate\", \"kill\", \"birth\"])"
     ],
     "language": "python",
     "metadata": {},
     "outputs": []
    },
    {
     "cell_type": "code",
     "collapsed": false,
     "input": [
      "# Question : Let's look into the chances of reading a happy or sad page after reading almost half of book\n",
      "\n",
      "moodstring=[]\n",
      "for w in text1:\n",
      "    if w == \"love\" or w == \"birth\":\n",
      "        moodstring.append(0)\n",
      "    \n",
      "    if w == \"hate\" or w == \"kill\":\n",
      "        moodstring.append(1)"
     ],
     "language": "python",
     "metadata": {},
     "outputs": []
    },
    {
     "cell_type": "code",
     "collapsed": false,
     "input": [
      "print len(moodstring)\n",
      "moodstring[1]"
     ],
     "language": "python",
     "metadata": {},
     "outputs": []
    },
    {
     "cell_type": "code",
     "collapsed": false,
     "input": [
      "A= np.zeros([2,2])\n",
      "#Use half of string  to create transition matrix\n",
      "for j in range(36):\n",
      "    i = moodstring[j]\n",
      "   \n",
      "    \n",
      "    if i == 0:\n",
      "        node0= 0\n",
      "        if moodstring[j+1] == 0:\n",
      "            node1 = 0\n",
      "            A[node0][node1] +=1.0\n",
      "        else:\n",
      "            node1 = 1\n",
      "            A[node0][node1] +=1.0\n",
      "    \n",
      "    \n",
      "    if i == 1:\n",
      "        node0= 1\n",
      "        if moodstring[j+1] == 0:\n",
      "            node1 = 0\n",
      "            A[node0][node1] +=1.0\n",
      "        else:\n",
      "            node1 = 1\n",
      "            A[node0][node1] +=1.0\n",
      "            \n",
      "print A"
     ],
     "language": "python",
     "metadata": {},
     "outputs": []
    },
    {
     "cell_type": "code",
     "collapsed": false,
     "input": [
      "#normalized transition matrix\n",
      "norm_row1 = A[0][0] + A[0][1]\n",
      "norm_row2 = A[1][0]  + A[1][1]\n",
      "print norm_row1\n",
      "print norm_row2\n",
      "A[0][0] = A[0][0] / norm_row1\n",
      "A[0][1] = A[0][1] / norm_row1\n",
      "A[1][0] = A[1][0] / norm_row2\n",
      "A[1][1] = A[1][1] / norm_row2\n",
      "print \"Transition matrix\", A"
     ],
     "language": "python",
     "metadata": {},
     "outputs": []
    },
    {
     "cell_type": "code",
     "collapsed": false,
     "input": [
      "dir = os.getcwd()\n",
      "#read parameters for simulation\n",
      "params = json.load(open(dir + '/params.json' , 'r'))\n",
      "totalsteps = params[\"totalsteps\"]\n",
      "seed =  params[\"seed\"]\n",
      "skipsteps = params[\"skipsteps\"]\n",
      "node_0  = params[\"initnode\"]\n",
      "node_1  = params[\"finalnode\"]\n",
      "\n",
      "mobydick = mc.MC(dir + '/randwalk.dat', seed[0] , totalsteps ,node_0[0] , node_1[0], 10*skipsteps)"
     ],
     "language": "python",
     "metadata": {},
     "outputs": []
    },
    {
     "cell_type": "code",
     "collapsed": false,
     "input": [
      "#Pass Transition matrix as calculated above\n",
      "mobydick.adjmatrix(A)"
     ],
     "language": "python",
     "metadata": {},
     "outputs": []
    },
    {
     "cell_type": "code",
     "collapsed": false,
     "input": [
      "#raise transition matrix to 10 power : columns show distribution equilibrium if share same values\n",
      "B=mobydick.raisematrix(20)"
     ],
     "language": "python",
     "metadata": {},
     "outputs": []
    },
    {
     "cell_type": "code",
     "collapsed": false,
     "input": [
      "print B"
     ],
     "language": "python",
     "metadata": {},
     "outputs": []
    },
    {
     "cell_type": "code",
     "collapsed": false,
     "input": [
      "# use simulation to validate results \n",
      "dist_happy_sentiment =mobydick.run()"
     ],
     "language": "python",
     "metadata": {},
     "outputs": []
    },
    {
     "cell_type": "code",
     "collapsed": false,
     "input": [
      "print dist_happy_sentiment"
     ],
     "language": "python",
     "metadata": {},
     "outputs": [
      {
       "output_type": "stream",
       "stream": "stdout",
       "text": [
        "0.427244\n"
       ]
      }
     ],
     "prompt_number": 20
    },
    {
     "cell_type": "code",
     "collapsed": false,
     "input": [
      "#so if the reader reads half of Moby Dick and decided to read one more page before going to bed\n",
      "#there is a 42% probability he will jump into a happy page\n",
      "# and a 57% he will land into a sad page before falling asleep"
     ],
     "language": "python",
     "metadata": {},
     "outputs": []
    }
   ],
   "metadata": {}
  }
 ]
}