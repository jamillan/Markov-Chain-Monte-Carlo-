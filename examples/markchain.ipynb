{
 "metadata": {
  "name": "",
  "signature": "sha256:696b443d8b6a595f2ad9cfe3e62653d76a520424f20b809be6188ad3b9f5206e"
 },
 "nbformat": 3,
 "nbformat_minor": 0,
 "worksheets": [
  {
   "cells": [
    {
     "cell_type": "code",
     "collapsed": false,
     "input": [
      "from __future__ import division\n",
      "import sys\n",
      "import numpy as np\n",
      "from numpy import linalg as LA\n",
      "import pandas as pd\n",
      "import random\n",
      "import multiprocessing\n",
      "from multiprocessing import Pool\n",
      "import time\n",
      "import json\n",
      "import os\n"
     ],
     "language": "python",
     "metadata": {},
     "outputs": [],
     "prompt_number": 4
    },
    {
     "cell_type": "code",
     "collapsed": false,
     "input": [
      "#import mc model\n",
      "from mc import MC as MC\n",
      "\n"
     ],
     "language": "python",
     "metadata": {},
     "outputs": [],
     "prompt_number": 20
    },
    {
     "cell_type": "code",
     "collapsed": false,
     "input": [
      "if __name__ == '__main__':\n",
      "  dir = os.getcwd()\n",
      "  #dir = '/Users/jamillan/MarkovianChain/'\n",
      " # F\n",
      "  params = json.load(open(dir + '/randparams.json' , 'r'))\n",
      "  totalsteps = params[\"totalsteps\"]      # Total Steps\n",
      "  seed =  params[\"seed\"]                 # List of seeds        \n",
      "  skipsteps = params[\"skipsteps\"]        # Profile time\n",
      "  node_0  = params[\"initnode\"]           # initial node\n",
      "  node_1  = params[\"finalnode\"]          # Target nodes\n",
      "\n",
      " \n",
      "  randwalker = MC(dir + '/randwalk.dat', 1 , totalsteps ,0 , 1, 10000)\n",
      "  #raise transition matrix to the 100th power\n",
      "  A = randwalker.raisematrix(100)\n",
      "  print \"equil distribution matrix\" , A\n",
      "  prob_node = randwalker.run()\n",
      "  print \"equil distribution of node 1 : \" , prob_node\n",
      "\n",
      "  \n",
      "    \n",
      "\n",
      "  "
     ],
     "language": "python",
     "metadata": {},
     "outputs": [
      {
       "output_type": "stream",
       "stream": "stdout",
       "text": [
        "equil distribution matrix [[ 0.2  0.2  0.2  0.2  0.2]\n",
        " [ 0.2  0.2  0.2  0.2  0.2]\n",
        " [ 0.2  0.2  0.2  0.2  0.2]\n",
        " [ 0.2  0.2  0.2  0.2  0.2]\n",
        " [ 0.2  0.2  0.2  0.2  0.2]]\n",
        "ETS |  5242880000.0 \t| steps remaining :  0 / 50000 \t| time remaining :  9.53674316406e-06 seconds\n",
        "ETS |  239424.145037 \t| steps remaining :  10000 / 50000 \t| time remaining :  0.167067527771 seconds\n",
        "ETS | "
       ]
      },
      {
       "output_type": "stream",
       "stream": "stdout",
       "text": [
        " 130703.579286 \t| steps remaining :  20000 / 50000 \t| time remaining :  0.229526996613 seconds\n",
        "ETS |  296754.894261 \t| steps remaining :  30000 / 50000 \t| time remaining :  0.0673956871033 seconds\n",
        "ETS | "
       ]
      },
      {
       "output_type": "stream",
       "stream": "stdout",
       "text": [
        " 300589.381952 \t| steps remaining :  40000 / 50000 \t| time remaining :  0.0332679748535 seconds\n",
        "****Simulation Complete****\n",
        "equil distribution of node 1 :  0.19968\n"
       ]
      }
     ],
     "prompt_number": 28
    },
    {
     "cell_type": "code",
     "collapsed": false,
     "input": [
      "  \n",
      "  # Get average number of steps from node 1 to node 2\n",
      "    \n",
      "  diff_1_2 = randwalker.diffussion(1,2)\n",
      "  print \"average steps from node 1 to node 2 : \",  np.mean(diff_1_2)\n",
      " \n",
      "\n",
      "  "
     ],
     "language": "python",
     "metadata": {},
     "outputs": [
      {
       "output_type": "stream",
       "stream": "stdout",
       "text": [
        "ETS |  183546 \t| steps remaining :  10000 / 50000 \t| time remaining :  0.217927932739 seconds\n",
        "ETS |  237129 \t| steps remaining :  20000 / 50000 \t| time remaining :  0.126513004303 seconds\n",
        "ETS | "
       ]
      },
      {
       "output_type": "stream",
       "stream": "stdout",
       "text": [
        " 113387 \t| steps remaining :  30000 / 50000 \t| time remaining :  0.176386356354 seconds\n",
        "ETS |  212571 \t| steps remaining :  40000 / 50000 \t| time remaining :  0.0470430850983 seconds\n",
        "average steps from node 1 to node 2 : "
       ]
      },
      {
       "output_type": "stream",
       "stream": "stdout",
       "text": [
        " 4.02551898734\n"
       ]
      }
     ],
     "prompt_number": 29
    },
    {
     "cell_type": "code",
     "collapsed": false,
     "input": [
      "runner = []"
     ],
     "language": "python",
     "metadata": {},
     "outputs": [],
     "prompt_number": 30
    },
    {
     "cell_type": "code",
     "collapsed": false,
     "input": [
      "  \n",
      "  var=[[dir + '/randwalk.dat', seed[0] , totalsteps ,1 , node_1[0] , skipsteps]]\n",
      "  var1=[dir + '/randwalk.dat', seed[1] , totalsteps ,2 , node_1[1] , skipsteps]\n",
      "  var2=[dir + '/randwalk.dat', seed[2] , totalsteps ,0 , node_1[2] , skipsteps]\n",
      "\n",
      "  var.append(var1)\n",
      "  var.append(var2)\n",
      "#example of  how to run in parallel\n",
      "\n",
      "  pool = Pool(processes = multiprocessing.cpu_count())\n",
      "  runners =  pool.map(encapsulate,var)\n",
      "\n",
      "  "
     ],
     "language": "python",
     "metadata": {},
     "outputs": [
      {
       "output_type": "stream",
       "stream": "stdout",
       "text": [
        "ETS |  3226387692.31 \t| steps remaining :  0 / 50000 \t| time remaining :  1.54972076416e-05 seconds\n",
        "ETS |  2467237647.06 \t| steps remaining :  0 / 50000 \t| time remaining :  2.02655792236e-05 seconds\n",
        "ETS |  2621440000.0 \t| steps remaining :  0 / 50000 \t| time remaining :  1.90734863281e-05 seconds\n",
        "ETS |  233290.35703 \t| steps remaining :  10000 / 50000 \t| time remaining :  0.171460151672 seconds\n",
        "ETS |  245832.981666 \t| steps remaining :  10000 / 50000 \t| time remaining :  0.162712097168 seconds\n",
        "ETS |  201138.648047 \t| steps remaining :  10000 / 50000 \t| time remaining :  0.198867797852 seconds\n",
        "ETS |  229926.926471 \t| steps remaining :  20000 / 50000 \t| time remaining :  0.130476236343 seconds\n",
        "ETS |  224210.402523 \t| steps remaining :  20000 / 50000 \t| time remaining :  0.133802890778 seconds\n",
        "ETS |  250274.72134 \t| steps remaining :  20000 / 50000 \t| time remaining :  0.119868278503 seconds\n",
        "ETS |  274212.790439 \t| steps remaining :  30000 / 50000 \t| time remaining :  0.0729360580444 seconds\n",
        "ETS |  109078.671906 \t| steps remaining :  30000 / 50000 \t| time remaining :  0.183353900909 seconds\n",
        "ETS |  296015.583096 \t| steps remaining :  30000 / 50000 \t| time remaining :  0.0675640106201 seconds\n",
        "ETS |  218197.632982 \t| steps remaining :  40000 / 50000 \t| time remaining :  0.0458300113678 seconds\n",
        "ETS |  261478.863142 \t| steps remaining :  40000 / 50000 \t| time remaining :  0.0382440090179 seconds\n",
        "ETS |  264970.908379 \t| steps remaining :  40000 / 50000 \t| time remaining :  0.0377399921417 seconds\n",
        "****Simulation Complete****\n",
        "****Simulation Complete****\n",
        "****Simulation Complete****\n"
       ]
      }
     ],
     "prompt_number": 31
    },
    {
     "cell_type": "code",
     "collapsed": false,
     "input": [],
     "language": "python",
     "metadata": {},
     "outputs": [],
     "prompt_number": 31
    },
    {
     "cell_type": "code",
     "collapsed": false,
     "input": [
      "for i in range(len(runners)):\n",
      "\n",
      "    print \"printing distribution node \" + str(i) + \" = \" ,runners[i][0]"
     ],
     "language": "python",
     "metadata": {},
     "outputs": [
      {
       "output_type": "stream",
       "stream": "stdout",
       "text": [
        "printing distribution node 0 =  0.20776\n",
        "printing distribution node 1 =  0.19796\n",
        "printing distribution node 2 =  0.20044\n"
       ]
      }
     ],
     "prompt_number": 32
    },
    {
     "cell_type": "code",
     "collapsed": false,
     "input": [],
     "language": "python",
     "metadata": {},
     "outputs": [],
     "prompt_number": 24
    },
    {
     "cell_type": "code",
     "collapsed": false,
     "input": [],
     "language": "python",
     "metadata": {},
     "outputs": [],
     "prompt_number": 24
    },
    {
     "cell_type": "code",
     "collapsed": false,
     "input": [],
     "language": "python",
     "metadata": {},
     "outputs": []
    }
   ],
   "metadata": {}
  }
 ]
}